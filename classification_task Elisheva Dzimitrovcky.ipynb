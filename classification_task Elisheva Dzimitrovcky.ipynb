{
 "cells": [
  {
   "cell_type": "markdown",
   "id": "65a88225",
   "metadata": {
    "papermill": {
     "duration": 0.007098,
     "end_time": "2023-01-22T04:15:34.489357",
     "exception": false,
     "start_time": "2023-01-22T04:15:34.482259",
     "status": "completed"
    },
    "tags": []
   },
   "source": [
    "<h2 align=\"center\">Classification  (this task = 60 points)</h2> "
   ]
  },
  {
   "cell_type": "markdown",
   "id": "44aca623",
   "metadata": {},
   "source": [
    "In this task we would like to classify mobile phones price (\"price range\") based on provided independent variables"
   ]
  },
  {
   "cell_type": "markdown",
   "id": "677155c4",
   "metadata": {},
   "source": [
    "### Task 1: Importing Libraries"
   ]
  },
  {
   "cell_type": "code",
   "execution_count": 18,
   "id": "67e2b392",
   "metadata": {
    "execution": {
     "iopub.execute_input": "2023-01-22T04:15:34.510561Z",
     "iopub.status.busy": "2023-01-22T04:15:34.509765Z",
     "iopub.status.idle": "2023-01-22T04:15:39.916200Z",
     "shell.execute_reply": "2023-01-22T04:15:39.915199Z"
    },
    "papermill": {
     "duration": 5.423407,
     "end_time": "2023-01-22T04:15:39.918753",
     "exception": false,
     "start_time": "2023-01-22T04:15:34.495346",
     "status": "completed"
    },
    "tags": []
   },
   "outputs": [],
   "source": [
    "import matplotlib.pyplot as plt\n",
    "import numpy as np\n",
    "import pandas as pd\n",
    "import seaborn as sns\n",
    "from sklearn import linear_model, svm\n",
    "from sklearn import model_selection\n",
    "from sklearn.model_selection import train_test_split\n",
    "from sklearn.neighbors import KNeighborsClassifier\n",
    "from sklearn.preprocessing import StandardScaler\n",
    "from sklearn.linear_model import LinearRegression,LogisticRegression \n",
    "from sklearn.cluster import KMeans\n",
    "from sklearn.metrics import confusion_matrix, classification_report, accuracy_score\n",
    "from sklearn.metrics import confusion_matrix, classification_report, accuracy_score,precision_score,recall_score\n",
    "from imblearn.metrics import specificity_score\n",
    "from sklearn.datasets import make_blobs\n",
    "from sklearn.metrics import mean_squared_error, r2_score\n",
    "from sklearn.metrics import accuracy_score, confusion_matrix, ConfusionMatrixDisplay, classification_report\n",
    "%matplotlib inline"
   ]
  },
  {
   "cell_type": "markdown",
   "id": "284ea5b4",
   "metadata": {
    "papermill": {
     "duration": 0.006194,
     "end_time": "2023-01-22T04:15:39.931065",
     "exception": false,
     "start_time": "2023-01-22T04:15:39.924871",
     "status": "completed"
    },
    "tags": []
   },
   "source": [
    "### Task 2: Importing data - the data is already splitted  to train and test - use in data frolder: phone_train.csv for train and phone_test.csv for test"
   ]
  },
  {
   "cell_type": "code",
   "execution_count": 16,
   "id": "cfae8823",
   "metadata": {
    "execution": {
     "iopub.execute_input": "2023-01-22T04:15:39.943788Z",
     "iopub.status.busy": "2023-01-22T04:15:39.943316Z",
     "iopub.status.idle": "2023-01-22T04:15:39.999194Z",
     "shell.execute_reply": "2023-01-22T04:15:39.998339Z"
    },
    "papermill": {
     "duration": 0.064724,
     "end_time": "2023-01-22T04:15:40.001465",
     "exception": false,
     "start_time": "2023-01-22T04:15:39.936741",
     "status": "completed"
    },
    "tags": []
   },
   "outputs": [
    {
     "data": {
      "text/html": [
       "<div>\n",
       "<style scoped>\n",
       "    .dataframe tbody tr th:only-of-type {\n",
       "        vertical-align: middle;\n",
       "    }\n",
       "\n",
       "    .dataframe tbody tr th {\n",
       "        vertical-align: top;\n",
       "    }\n",
       "\n",
       "    .dataframe thead th {\n",
       "        text-align: right;\n",
       "    }\n",
       "</style>\n",
       "<table border=\"1\" class=\"dataframe\">\n",
       "  <thead>\n",
       "    <tr style=\"text-align: right;\">\n",
       "      <th></th>\n",
       "      <th>battery_power</th>\n",
       "      <th>int_memory</th>\n",
       "      <th>px_height</th>\n",
       "      <th>px_width</th>\n",
       "      <th>ram</th>\n",
       "      <th>talk_time</th>\n",
       "      <th>price_range</th>\n",
       "    </tr>\n",
       "  </thead>\n",
       "  <tbody>\n",
       "    <tr>\n",
       "      <th>0</th>\n",
       "      <td>842</td>\n",
       "      <td>7</td>\n",
       "      <td>20</td>\n",
       "      <td>756</td>\n",
       "      <td>2549</td>\n",
       "      <td>19</td>\n",
       "      <td>1</td>\n",
       "    </tr>\n",
       "    <tr>\n",
       "      <th>1</th>\n",
       "      <td>1021</td>\n",
       "      <td>53</td>\n",
       "      <td>905</td>\n",
       "      <td>1988</td>\n",
       "      <td>2631</td>\n",
       "      <td>7</td>\n",
       "      <td>2</td>\n",
       "    </tr>\n",
       "    <tr>\n",
       "      <th>2</th>\n",
       "      <td>563</td>\n",
       "      <td>41</td>\n",
       "      <td>1263</td>\n",
       "      <td>1716</td>\n",
       "      <td>2603</td>\n",
       "      <td>9</td>\n",
       "      <td>2</td>\n",
       "    </tr>\n",
       "    <tr>\n",
       "      <th>3</th>\n",
       "      <td>615</td>\n",
       "      <td>10</td>\n",
       "      <td>1216</td>\n",
       "      <td>1786</td>\n",
       "      <td>2769</td>\n",
       "      <td>11</td>\n",
       "      <td>2</td>\n",
       "    </tr>\n",
       "    <tr>\n",
       "      <th>4</th>\n",
       "      <td>1821</td>\n",
       "      <td>44</td>\n",
       "      <td>1208</td>\n",
       "      <td>1212</td>\n",
       "      <td>1411</td>\n",
       "      <td>15</td>\n",
       "      <td>1</td>\n",
       "    </tr>\n",
       "  </tbody>\n",
       "</table>\n",
       "</div>"
      ],
      "text/plain": [
       "   battery_power  int_memory  px_height  px_width   ram  talk_time  \\\n",
       "0            842           7         20       756  2549         19   \n",
       "1           1021          53        905      1988  2631          7   \n",
       "2            563          41       1263      1716  2603          9   \n",
       "3            615          10       1216      1786  2769         11   \n",
       "4           1821          44       1208      1212  1411         15   \n",
       "\n",
       "   price_range  \n",
       "0            1  \n",
       "1            2  \n",
       "2            2  \n",
       "3            2  \n",
       "4            1  "
      ]
     },
     "execution_count": 16,
     "metadata": {},
     "output_type": "execute_result"
    }
   ],
   "source": [
    "dftrain = pd.read_csv(\"phone_train.csv\")\n",
    "dftrain = dftrain.fillna(dftrain.mean())\n",
    "dftrain.head()"
   ]
  },
  {
   "cell_type": "code",
   "execution_count": 17,
   "id": "4556b5c1",
   "metadata": {},
   "outputs": [
    {
     "data": {
      "text/html": [
       "<div>\n",
       "<style scoped>\n",
       "    .dataframe tbody tr th:only-of-type {\n",
       "        vertical-align: middle;\n",
       "    }\n",
       "\n",
       "    .dataframe tbody tr th {\n",
       "        vertical-align: top;\n",
       "    }\n",
       "\n",
       "    .dataframe thead th {\n",
       "        text-align: right;\n",
       "    }\n",
       "</style>\n",
       "<table border=\"1\" class=\"dataframe\">\n",
       "  <thead>\n",
       "    <tr style=\"text-align: right;\">\n",
       "      <th></th>\n",
       "      <th>battery_power</th>\n",
       "      <th>int_memory</th>\n",
       "      <th>px_height</th>\n",
       "      <th>px_width</th>\n",
       "      <th>ram</th>\n",
       "      <th>talk_time</th>\n",
       "      <th>price_range</th>\n",
       "    </tr>\n",
       "  </thead>\n",
       "  <tbody>\n",
       "    <tr>\n",
       "      <th>0</th>\n",
       "      <td>1742</td>\n",
       "      <td>43</td>\n",
       "      <td>356</td>\n",
       "      <td>1407</td>\n",
       "      <td>1921</td>\n",
       "      <td>3</td>\n",
       "      <td>2</td>\n",
       "    </tr>\n",
       "    <tr>\n",
       "      <th>1</th>\n",
       "      <td>1225</td>\n",
       "      <td>60</td>\n",
       "      <td>10</td>\n",
       "      <td>1567</td>\n",
       "      <td>2423</td>\n",
       "      <td>6</td>\n",
       "      <td>2</td>\n",
       "    </tr>\n",
       "    <tr>\n",
       "      <th>2</th>\n",
       "      <td>1970</td>\n",
       "      <td>15</td>\n",
       "      <td>1399</td>\n",
       "      <td>1684</td>\n",
       "      <td>1658</td>\n",
       "      <td>20</td>\n",
       "      <td>2</td>\n",
       "    </tr>\n",
       "    <tr>\n",
       "      <th>3</th>\n",
       "      <td>1186</td>\n",
       "      <td>21</td>\n",
       "      <td>68</td>\n",
       "      <td>584</td>\n",
       "      <td>2361</td>\n",
       "      <td>7</td>\n",
       "      <td>1</td>\n",
       "    </tr>\n",
       "    <tr>\n",
       "      <th>4</th>\n",
       "      <td>1762</td>\n",
       "      <td>60</td>\n",
       "      <td>643</td>\n",
       "      <td>790</td>\n",
       "      <td>1380</td>\n",
       "      <td>14</td>\n",
       "      <td>1</td>\n",
       "    </tr>\n",
       "  </tbody>\n",
       "</table>\n",
       "</div>"
      ],
      "text/plain": [
       "   battery_power  int_memory  px_height  px_width   ram  talk_time  \\\n",
       "0           1742          43        356      1407  1921          3   \n",
       "1           1225          60         10      1567  2423          6   \n",
       "2           1970          15       1399      1684  1658         20   \n",
       "3           1186          21         68       584  2361          7   \n",
       "4           1762          60        643       790  1380         14   \n",
       "\n",
       "   price_range  \n",
       "0            2  \n",
       "1            2  \n",
       "2            2  \n",
       "3            1  \n",
       "4            1  "
      ]
     },
     "execution_count": 17,
     "metadata": {},
     "output_type": "execute_result"
    }
   ],
   "source": [
    "dftest= pd.read_csv(\"phone_test.csv\")\n",
    "dftest = dftest.fillna(dftest.mean())\n",
    "dftest.head()"
   ]
  },
  {
   "cell_type": "markdown",
   "id": "7dc6231c",
   "metadata": {
    "papermill": {
     "duration": 0.005399,
     "end_time": "2023-01-22T04:15:40.012620",
     "exception": false,
     "start_time": "2023-01-22T04:15:40.007221",
     "status": "completed"
    },
    "tags": []
   },
   "source": [
    "### Task 3: Explore the data\n",
    "Using pandas please provide the following answers\n",
    "#### **Quiz5**: \n",
    "a) How many features are in the data? **(2 points)**\n",
    "\n",
    "b) How many classes are in the output variable?**(2 points)**\n",
    "\n",
    "c) How many data points are in train data?**(2 points)**\n",
    "\n",
    "d) How many data points are in test data?**(2 points)**\n",
    "\n",
    "e) What is an average value in \"talk_time\" feature?**(2 points)**\n"
   ]
  },
  {
   "cell_type": "code",
   "execution_count": 56,
   "id": "874dec45",
   "metadata": {
    "execution": {
     "iopub.execute_input": "2023-01-22T04:15:40.027160Z",
     "iopub.status.busy": "2023-01-22T04:15:40.025867Z",
     "iopub.status.idle": "2023-01-22T04:15:40.059184Z",
     "shell.execute_reply": "2023-01-22T04:15:40.058323Z"
    },
    "papermill": {
     "duration": 0.042951,
     "end_time": "2023-01-22T04:15:40.061092",
     "exception": false,
     "start_time": "2023-01-22T04:15:40.018141",
     "status": "completed"
    },
    "tags": []
   },
   "outputs": [
    {
     "data": {
      "text/plain": [
       "11.121333333333334"
      ]
     },
     "execution_count": 56,
     "metadata": {},
     "output_type": "execute_result"
    }
   ],
   "source": [
    "dftrain[\"battery_power\"].count()\n",
    "dftest[\"battery_power\"].count()\n",
    "dftrain[\"talk_time\"].mean()"
   ]
  },
  {
   "cell_type": "markdown",
   "id": "eae45af5",
   "metadata": {},
   "source": [
    "#### **Bonus 1**:  Provide histogram of each feature of train and test data and validate if  the distribution is similar **(10 points)**"
   ]
  },
  {
   "cell_type": "code",
   "execution_count": null,
   "id": "222d3015",
   "metadata": {
    "execution": {
     "iopub.execute_input": "2023-01-22T04:15:40.261584Z",
     "iopub.status.busy": "2023-01-22T04:15:40.260173Z",
     "iopub.status.idle": "2023-01-22T04:15:40.265547Z",
     "shell.execute_reply": "2023-01-22T04:15:40.264702Z"
    },
    "papermill": {
     "duration": 0.015151,
     "end_time": "2023-01-22T04:15:40.267529",
     "exception": false,
     "start_time": "2023-01-22T04:15:40.252378",
     "status": "completed"
    },
    "tags": []
   },
   "outputs": [],
   "source": []
  },
  {
   "cell_type": "markdown",
   "id": "acf0aaf1",
   "metadata": {
    "papermill": {
     "duration": 0.006683,
     "end_time": "2023-01-22T04:15:40.281525",
     "exception": false,
     "start_time": "2023-01-22T04:15:40.274842",
     "status": "completed"
    },
    "tags": []
   },
   "source": [
    "### Task 4: Scale the features of train and test  to use classification models"
   ]
  },
  {
   "cell_type": "code",
   "execution_count": 12,
   "id": "37638bf2",
   "metadata": {
    "execution": {
     "iopub.execute_input": "2023-01-22T04:15:55.593228Z",
     "iopub.status.busy": "2023-01-22T04:15:55.592911Z",
     "iopub.status.idle": "2023-01-22T04:15:55.604603Z",
     "shell.execute_reply": "2023-01-22T04:15:55.603755Z"
    },
    "papermill": {
     "duration": 0.022925,
     "end_time": "2023-01-22T04:15:55.606600",
     "exception": false,
     "start_time": "2023-01-22T04:15:55.583675",
     "status": "completed"
    },
    "tags": []
   },
   "outputs": [],
   "source": [
    "x_train=dftrain[[\"talk_time\",\"ram\",\"px_width\",\"px_height\",\"int_memory\",\"battery_power\"]]\n",
    "y_train=dftrain[[\"price_range\"]]\n",
    "x_test=dftest[[\"talk_time\",\"ram\",\"px_width\",\"px_height\",\"int_memory\",\"battery_power\"]]\n",
    "y_test=dftest[[\"price_range\"]]\n"
   ]
  },
  {
   "cell_type": "code",
   "execution_count": 15,
   "id": "6e2aed02",
   "metadata": {},
   "outputs": [
    {
     "data": {
      "text/html": [
       "<div>\n",
       "<style scoped>\n",
       "    .dataframe tbody tr th:only-of-type {\n",
       "        vertical-align: middle;\n",
       "    }\n",
       "\n",
       "    .dataframe tbody tr th {\n",
       "        vertical-align: top;\n",
       "    }\n",
       "\n",
       "    .dataframe thead th {\n",
       "        text-align: right;\n",
       "    }\n",
       "</style>\n",
       "<table border=\"1\" class=\"dataframe\">\n",
       "  <thead>\n",
       "    <tr style=\"text-align: right;\">\n",
       "      <th></th>\n",
       "      <th>battery_power</th>\n",
       "      <th>int_memory</th>\n",
       "      <th>px_height</th>\n",
       "      <th>px_width</th>\n",
       "      <th>ram</th>\n",
       "      <th>talk_time</th>\n",
       "    </tr>\n",
       "  </thead>\n",
       "  <tbody>\n",
       "    <tr>\n",
       "      <th>0</th>\n",
       "      <td>-1.356813</td>\n",
       "      <td>-0.184153</td>\n",
       "      <td>0.334567</td>\n",
       "      <td>-0.623180</td>\n",
       "      <td>0.693499</td>\n",
       "      <td>1.158959</td>\n",
       "    </tr>\n",
       "    <tr>\n",
       "      <th>1</th>\n",
       "      <td>-0.825748</td>\n",
       "      <td>0.296018</td>\n",
       "      <td>0.696637</td>\n",
       "      <td>-1.404554</td>\n",
       "      <td>1.637184</td>\n",
       "      <td>-0.016505</td>\n",
       "    </tr>\n",
       "    <tr>\n",
       "      <th>2</th>\n",
       "      <td>1.652555</td>\n",
       "      <td>-0.435717</td>\n",
       "      <td>0.961401</td>\n",
       "      <td>1.732234</td>\n",
       "      <td>-0.860807</td>\n",
       "      <td>1.677346</td>\n",
       "    </tr>\n",
       "    <tr>\n",
       "      <th>3</th>\n",
       "      <td>-0.648726</td>\n",
       "      <td>0.236714</td>\n",
       "      <td>-1.527831</td>\n",
       "      <td>-1.273573</td>\n",
       "      <td>-0.527741</td>\n",
       "      <td>-0.105177</td>\n",
       "    </tr>\n",
       "    <tr>\n",
       "      <th>4</th>\n",
       "      <td>0.590425</td>\n",
       "      <td>-0.701629</td>\n",
       "      <td>-1.061666</td>\n",
       "      <td>0.024954</td>\n",
       "      <td>1.637184</td>\n",
       "      <td>1.204431</td>\n",
       "    </tr>\n",
       "  </tbody>\n",
       "</table>\n",
       "</div>"
      ],
      "text/plain": [
       "   battery_power  int_memory  px_height  px_width       ram  talk_time\n",
       "0      -1.356813   -0.184153   0.334567 -0.623180  0.693499   1.158959\n",
       "1      -0.825748    0.296018   0.696637 -1.404554  1.637184  -0.016505\n",
       "2       1.652555   -0.435717   0.961401  1.732234 -0.860807   1.677346\n",
       "3      -0.648726    0.236714  -1.527831 -1.273573 -0.527741  -0.105177\n",
       "4       0.590425   -0.701629  -1.061666  0.024954  1.637184   1.204431"
      ]
     },
     "execution_count": 15,
     "metadata": {},
     "output_type": "execute_result"
    }
   ],
   "source": [
    "from sklearn.preprocessing import StandardScaler\n",
    "scaler = StandardScaler()\n",
    "scaler.fit(x_train)\n",
    "x_train_scaled = scaler.transform(x_train)\n",
    "x_train_scaled = pd.DataFrame(x_train_scaled,columns=dftrain.columns[:6])\n",
    "x_train_scaled.head()\n",
    "\n",
    "scaler.fit(x_test)\n",
    "x_test_scaled = scaler.transform(x_test)\n",
    "x_test_scaled = pd.DataFrame(x_test_scaled,columns=dftest.columns[:6])\n",
    "x_test_scaled.head()"
   ]
  },
  {
   "cell_type": "markdown",
   "id": "bd247f9e",
   "metadata": {
    "papermill": {
     "duration": 0.008183,
     "end_time": "2023-01-22T04:15:55.623120",
     "exception": false,
     "start_time": "2023-01-22T04:15:55.614937",
     "status": "completed"
    },
    "tags": []
   },
   "source": [
    "### Task 5: Run SVM, k-NN, LogisticRegression and Decision trees models"
   ]
  },
  {
   "cell_type": "code",
   "execution_count": 23,
   "id": "712e7adf",
   "metadata": {
    "execution": {
     "iopub.execute_input": "2023-01-22T04:15:55.640851Z",
     "iopub.status.busy": "2023-01-22T04:15:55.640593Z",
     "iopub.status.idle": "2023-01-22T04:15:55.646024Z",
     "shell.execute_reply": "2023-01-22T04:15:55.645127Z"
    },
    "papermill": {
     "duration": 0.016633,
     "end_time": "2023-01-22T04:15:55.648097",
     "exception": false,
     "start_time": "2023-01-22T04:15:55.631464",
     "status": "completed"
    },
    "tags": []
   },
   "outputs": [
    {
     "name": "stderr",
     "output_type": "stream",
     "text": [
      "C:\\ProgramData\\anaconda3\\lib\\site-packages\\sklearn\\utils\\validation.py:1143: DataConversionWarning: A column-vector y was passed when a 1d array was expected. Please change the shape of y to (n_samples, ), for example using ravel().\n",
      "  y = column_or_1d(y, warn=True)\n",
      "C:\\ProgramData\\anaconda3\\lib\\site-packages\\sklearn\\neighbors\\_classification.py:215: DataConversionWarning: A column-vector y was passed when a 1d array was expected. Please change the shape of y to (n_samples,), for example using ravel().\n",
      "  return self._fit(X, y)\n",
      "C:\\ProgramData\\anaconda3\\lib\\site-packages\\sklearn\\utils\\validation.py:1143: DataConversionWarning: A column-vector y was passed when a 1d array was expected. Please change the shape of y to (n_samples, ), for example using ravel().\n",
      "  y = column_or_1d(y, warn=True)\n",
      "C:\\ProgramData\\anaconda3\\lib\\site-packages\\sklearn\\linear_model\\_logistic.py:458: ConvergenceWarning: lbfgs failed to converge (status=1):\n",
      "STOP: TOTAL NO. of ITERATIONS REACHED LIMIT.\n",
      "\n",
      "Increase the number of iterations (max_iter) or scale the data as shown in:\n",
      "    https://scikit-learn.org/stable/modules/preprocessing.html\n",
      "Please also refer to the documentation for alternative solver options:\n",
      "    https://scikit-learn.org/stable/modules/linear_model.html#logistic-regression\n",
      "  n_iter_i = _check_optimize_result(\n"
     ]
    }
   ],
   "source": [
    "from sklearn import linear_model, svm\n",
    "svm_model = svm.SVC(random_state=0)\n",
    "svm_model.fit(x_train, y_train)\n",
    "pred_svm_model = svm_model.predict(x_test)\n",
    "\n",
    "knn_model = KNeighborsClassifier()\n",
    "knn_model.fit(x_train, y_train)\n",
    "pred_knn_model = knn_model.predict(x_test)\n",
    "\n",
    "lr = linear_model.LogisticRegression(random_state=0)\n",
    "lr.fit(x_train, y_train)\n",
    "pred_lr = lr.predict(x_test)"
   ]
  },
  {
   "cell_type": "markdown",
   "id": "2887b686",
   "metadata": {},
   "source": [
    "### Task 6: For each model get: confusion matrix and provide the following information:\n",
    "#### **Quiz6**: \n",
    "a) For SVM: accuracy, precision, recall **(10 points)**\n",
    "\n",
    "b) For k-NN: accuracy, precision, recall **(10 points)**\n",
    "\n",
    "c) For LogisticRegression: accuracy, precision, recall **(10 points)**\n",
    "\n",
    "\n",
    "\n",
    "\n",
    "\n"
   ]
  },
  {
   "cell_type": "markdown",
   "id": "ebc3f61b",
   "metadata": {},
   "source": [
    "SVM"
   ]
  },
  {
   "cell_type": "code",
   "execution_count": 29,
   "id": "57275ed2",
   "metadata": {},
   "outputs": [
    {
     "data": {
      "text/plain": [
       "0.936127744510978"
      ]
     },
     "execution_count": 29,
     "metadata": {},
     "output_type": "execute_result"
    }
   ],
   "source": [
    "accuracy_score(y_test, pred_svm_model)"
   ]
  },
  {
   "cell_type": "code",
   "execution_count": 41,
   "id": "99c8d7d0",
   "metadata": {},
   "outputs": [
    {
     "name": "stdout",
     "output_type": "stream",
     "text": [
      "              precision    recall  f1-score   support\n",
      "\n",
      "           0       0.97      0.98      0.97       125\n",
      "           1       0.91      0.95      0.93       128\n",
      "           2       0.93      0.87      0.90       127\n",
      "           3       0.94      0.94      0.94       121\n",
      "\n",
      "    accuracy                           0.94       501\n",
      "   macro avg       0.94      0.94      0.94       501\n",
      "weighted avg       0.94      0.94      0.94       501\n",
      "\n"
     ]
    },
    {
     "data": {
      "text/plain": [
       "(0.9375, 0.9349999999999999)"
      ]
     },
     "execution_count": 41,
     "metadata": {},
     "output_type": "execute_result"
    }
   ],
   "source": [
    "# precision_score(y_test, pred_svm_model)\n",
    "# recall_score(y_test, pred_svm_model)\n",
    "print(classification_report(y_test,pred_svm_model))\n",
    "precision=(0.97+0.91+0.93+0.94)/4\n",
    "recall =(0.98+0.95+0.87+0.94)/4\n",
    "precision,recall"
   ]
  },
  {
   "cell_type": "markdown",
   "id": "2b006777",
   "metadata": {},
   "source": [
    "KNN"
   ]
  },
  {
   "cell_type": "code",
   "execution_count": 42,
   "id": "e25862bb",
   "metadata": {},
   "outputs": [
    {
     "data": {
      "text/plain": [
       "0.9121756487025948"
      ]
     },
     "execution_count": 42,
     "metadata": {},
     "output_type": "execute_result"
    }
   ],
   "source": [
    "accuracy_score(y_test, pred_knn_model)"
   ]
  },
  {
   "cell_type": "code",
   "execution_count": 46,
   "id": "baa24636",
   "metadata": {},
   "outputs": [
    {
     "name": "stdout",
     "output_type": "stream",
     "text": [
      "              precision    recall  f1-score   support\n",
      "\n",
      "           0       0.96      0.97      0.96       125\n",
      "           1       0.87      0.91      0.89       128\n",
      "           2       0.88      0.84      0.86       127\n",
      "           3       0.94      0.93      0.93       121\n",
      "\n",
      "    accuracy                           0.91       501\n",
      "   macro avg       0.91      0.91      0.91       501\n",
      "weighted avg       0.91      0.91      0.91       501\n",
      "\n"
     ]
    }
   ],
   "source": [
    "print(classification_report(y_test,pred_knn_model))"
   ]
  },
  {
   "cell_type": "code",
   "execution_count": 48,
   "id": "733a2626",
   "metadata": {},
   "outputs": [
    {
     "data": {
      "text/plain": [
       "(0.91, 0.91)"
      ]
     },
     "execution_count": 48,
     "metadata": {},
     "output_type": "execute_result"
    }
   ],
   "source": [
    "precision=0.91\n",
    "recall=0.91\n",
    "precision,recall"
   ]
  },
  {
   "cell_type": "markdown",
   "id": "693ad40e",
   "metadata": {},
   "source": [
    "Linear Regression "
   ]
  },
  {
   "cell_type": "code",
   "execution_count": 49,
   "id": "a98190d3",
   "metadata": {},
   "outputs": [
    {
     "data": {
      "text/plain": [
       "0.5469061876247505"
      ]
     },
     "execution_count": 49,
     "metadata": {},
     "output_type": "execute_result"
    }
   ],
   "source": [
    "accuracy_score(y_test, pred_lr)"
   ]
  },
  {
   "cell_type": "code",
   "execution_count": 50,
   "id": "41cdc559",
   "metadata": {},
   "outputs": [
    {
     "name": "stdout",
     "output_type": "stream",
     "text": [
      "              precision    recall  f1-score   support\n",
      "\n",
      "           0       0.81      0.70      0.75       125\n",
      "           1       0.47      0.49      0.48       128\n",
      "           2       0.40      0.27      0.32       127\n",
      "           3       0.51      0.74      0.61       121\n",
      "\n",
      "    accuracy                           0.55       501\n",
      "   macro avg       0.55      0.55      0.54       501\n",
      "weighted avg       0.55      0.55      0.54       501\n",
      "\n"
     ]
    }
   ],
   "source": [
    "print(classification_report(y_test,pred_lr))"
   ]
  },
  {
   "cell_type": "code",
   "execution_count": 51,
   "id": "6745f8fd",
   "metadata": {},
   "outputs": [
    {
     "data": {
      "text/plain": [
       "(0.55, 0.55)"
      ]
     },
     "execution_count": 51,
     "metadata": {},
     "output_type": "execute_result"
    }
   ],
   "source": [
    "precision=0.55\n",
    "recall=0.55\n",
    "precision,recall"
   ]
  },
  {
   "cell_type": "markdown",
   "id": "d867a4b0",
   "metadata": {},
   "source": [
    "#### **Quiz7**:  Which model performs best: kNN/SVM/LR  and why? **(10 points)**"
   ]
  },
  {
   "cell_type": "markdown",
   "id": "da41a3bf",
   "metadata": {},
   "source": [
    "svm accuracy שלו הכי גבוה 0.93בגלל ש "
   ]
  },
  {
   "cell_type": "code",
   "execution_count": null,
   "id": "773862ff",
   "metadata": {},
   "outputs": [],
   "source": []
  }
 ],
 "metadata": {
  "kernelspec": {
   "display_name": "Python 3 (ipykernel)",
   "language": "python",
   "name": "python3"
  },
  "language_info": {
   "codemirror_mode": {
    "name": "ipython",
    "version": 3
   },
   "file_extension": ".py",
   "mimetype": "text/x-python",
   "name": "python",
   "nbconvert_exporter": "python",
   "pygments_lexer": "ipython3",
   "version": "3.10.9"
  },
  "papermill": {
   "default_parameters": {},
   "duration": 33.271255,
   "end_time": "2023-01-22T04:16:00.172693",
   "environment_variables": {},
   "exception": null,
   "input_path": "__notebook__.ipynb",
   "output_path": "__notebook__.ipynb",
   "parameters": {},
   "start_time": "2023-01-22T04:15:26.901438",
   "version": "2.3.4"
  },
  "vscode": {
   "interpreter": {
    "hash": "5238573367df39f7286bb46f9ff5f08f63a01a80960060ce41e3c79b190280fa"
   }
  }
 },
 "nbformat": 4,
 "nbformat_minor": 5
}
